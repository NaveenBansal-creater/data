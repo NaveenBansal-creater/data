{
 "cells": [
  {
   "cell_type": "code",
   "execution_count": 2,
   "id": "efb414e3",
   "metadata": {},
   "outputs": [],
   "source": [
    "from sklearn.feature_extraction.text import CountVectorizer\n",
    "import pandas as pd"
   ]
  },
  {
   "cell_type": "code",
   "execution_count": 3,
   "id": "6cd0ed2a",
   "metadata": {},
   "outputs": [],
   "source": [
    "import joblib\n",
    "sap = joblib.load('SAP_data.pkl')"
   ]
  },
  {
   "cell_type": "code",
   "execution_count": 4,
   "id": "1db16c59",
   "metadata": {},
   "outputs": [],
   "source": [
    "corpus = list(sap.keys())"
   ]
  },
  {
   "cell_type": "code",
   "execution_count": 5,
   "id": "ad578c8d",
   "metadata": {},
   "outputs": [
    {
     "data": {
      "text/plain": [
       "'threading (152170) threading'"
      ]
     },
     "execution_count": 5,
     "metadata": {},
     "output_type": "execute_result"
    }
   ],
   "source": [
    "corpus[10]"
   ]
  },
  {
   "cell_type": "code",
   "execution_count": 7,
   "id": "24756e3a",
   "metadata": {},
   "outputs": [],
   "source": [
    "vectorizer = CountVectorizer(analyzer='char_wb',ngram_range=(3,4))"
   ]
  },
  {
   "cell_type": "code",
   "execution_count": 8,
   "id": "f63e9c79",
   "metadata": {},
   "outputs": [],
   "source": [
    "X = vectorizer.fit_transform(corpus)"
   ]
  },
  {
   "cell_type": "code",
   "execution_count": 24,
   "id": "b1dd8006",
   "metadata": {},
   "outputs": [
    {
     "data": {
      "text/plain": [
       "(400885, 407081)"
      ]
     },
     "execution_count": 24,
     "metadata": {},
     "output_type": "execute_result"
    }
   ],
   "source": [
    "joblib.dump(vectorizer,'vec.pkl')\n",
    "X.shape"
   ]
  },
  {
   "cell_type": "code",
   "execution_count": 23,
   "id": "f9a5cbca",
   "metadata": {},
   "outputs": [
    {
     "data": {
      "text/plain": [
       "array([ 0.0076718 , -0.00441353,  0.0129921 ,  0.00497486,  0.00397842,\n",
       "        0.00025039,  0.00375873, -0.00011926,  0.00880559,  0.00556631,\n",
       "       -0.00011194,  0.0057841 ,  0.00582632,  0.0178518 ,  0.00220692,\n",
       "       -0.00462293,  0.0049491 , -0.01197028, -0.01382076, -0.01126666,\n",
       "        0.00883751,  0.00499716,  0.02326089, -0.00153907,  0.00182411,\n",
       "       -0.02010203,  0.00265832, -0.03104602, -0.00713723, -0.00552464,\n",
       "        0.00334825,  0.00150552, -0.01358775, -0.00570518,  0.0161638 ,\n",
       "       -0.0313866 ,  0.00881371,  0.00253421,  0.01672816, -0.03109096,\n",
       "       -0.02549687,  0.01267679,  0.00044524,  0.02902827,  0.01450523,\n",
       "        0.00704319, -0.00967374, -0.00098547, -0.00867628,  0.00756421,\n",
       "       -0.00114637, -0.00167012,  0.00762952,  0.01293918, -0.02260938,\n",
       "       -0.01257141, -0.01580536,  0.02046644, -0.02807035,  0.00813498,\n",
       "        0.0228682 , -0.01371071, -0.01708533,  0.03673719,  0.00491625,\n",
       "        0.05407758,  0.00688841,  0.02505342, -0.00299931, -0.03372923,\n",
       "       -0.01131216,  0.0186049 ,  0.01947833,  0.00975781,  0.03139886,\n",
       "       -0.00402486,  0.03189776,  0.03106285, -0.00891893, -0.01439867,\n",
       "       -0.00997816, -0.03604007, -0.07309179,  0.02572393,  0.01111915,\n",
       "       -0.00739553,  0.01534864,  0.01879144,  0.02019979,  0.01249029,\n",
       "        0.01183598, -0.02678634,  0.01826597, -0.02192822,  0.00625492,\n",
       "       -0.05066716, -0.01743786, -0.02444088,  0.0226006 , -0.02185293])"
      ]
     },
     "execution_count": 23,
     "metadata": {},
     "output_type": "execute_result"
    }
   ],
   "source": [
    "svd.transform(vectorizer.transform(['adf']).toarray())[0]"
   ]
  },
  {
   "cell_type": "code",
   "execution_count": 10,
   "id": "5db411ab",
   "metadata": {},
   "outputs": [],
   "source": [
    "from sklearn.decomposition import PCA\n",
    "pca = PCA(n_components=100)"
   ]
  },
  {
   "cell_type": "code",
   "execution_count": 13,
   "id": "3b628f13",
   "metadata": {},
   "outputs": [],
   "source": [
    "from sklearn.decomposition import TruncatedSVD\n",
    "svd = TruncatedSVD(n_components=100, n_iter=100, random_state=42)"
   ]
  },
  {
   "cell_type": "code",
   "execution_count": 14,
   "id": "2ca44c4a",
   "metadata": {},
   "outputs": [
    {
     "data": {
      "text/plain": [
       "TruncatedSVD(n_components=100, n_iter=100, random_state=42)"
      ]
     },
     "execution_count": 14,
     "metadata": {},
     "output_type": "execute_result"
    }
   ],
   "source": [
    "svd.fit(X)"
   ]
  },
  {
   "cell_type": "code",
   "execution_count": null,
   "id": "3b7fdd1e",
   "metadata": {},
   "outputs": [],
   "source": []
  },
  {
   "cell_type": "code",
   "execution_count": 17,
   "id": "50d85995",
   "metadata": {},
   "outputs": [
    {
     "data": {
      "text/plain": [
       "['svd.pkl']"
      ]
     },
     "execution_count": 17,
     "metadata": {},
     "output_type": "execute_result"
    }
   ],
   "source": [
    "joblib.dump(svd,'svd.pkl')"
   ]
  }
 ],
 "metadata": {
  "kernelspec": {
   "display_name": "Python 3 (ipykernel)",
   "language": "python",
   "name": "python3"
  },
  "language_info": {
   "codemirror_mode": {
    "name": "ipython",
    "version": 3
   },
   "file_extension": ".py",
   "mimetype": "text/x-python",
   "name": "python",
   "nbconvert_exporter": "python",
   "pygments_lexer": "ipython3",
   "version": "3.9.7"
  }
 },
 "nbformat": 4,
 "nbformat_minor": 5
}
