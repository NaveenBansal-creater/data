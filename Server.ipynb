{
 "cells": [
  {
   "cell_type": "code",
   "execution_count": 1,
   "id": "fac95718",
   "metadata": {},
   "outputs": [],
   "source": [
    "import numpy as np\n",
    "from jina import DocumentArray, Executor, requests"
   ]
  },
  {
   "cell_type": "code",
   "execution_count": null,
   "id": "79abca3c",
   "metadata": {},
   "outputs": [
    {
     "name": "stdout",
     "output_type": "stream",
     "text": [
      "Python 3.9.7 (default, Sep 16 2021, 13:09:58) \n",
      "Type 'copyright', 'credits' or 'license' for more information\n",
      "IPython 7.29.0 -- An enhanced Interactive Python. Type '?' for help.\n",
      "\n",
      "In [1]: q\n",
      "---------------------------------------------------------------------------\n",
      "NameError                                 Traceback (most recent call last)\n",
      "<ipython-input-1-e222fcdf3350> in <module>\n",
      "----> 1 q\n",
      "\n",
      "NameError: name 'q' is not defined\n",
      "\n"
     ]
    }
   ],
   "source": [
    "import nest_asyncio\n",
    "nest_asyncio.apply()\n",
    "__import__('IPython').embed()"
   ]
  },
  {
   "cell_type": "code",
   "execution_count": 2,
   "id": "5b015281",
   "metadata": {},
   "outputs": [
    {
     "name": "stderr",
     "output_type": "stream",
     "text": [
      "\u001b[1;33mDtypeWarning: Columns (0,4,5) have mixed types.Specify dtype option on import or set low_memory=False.\u001b[0m \u001b[1;30m(raised from /home/naveen/anaconda3/lib/python3.9/site-packages/IPython/core/interactiveshell.py:3444)\u001b[0m\n"
     ]
    }
   ],
   "source": [
    "import pandas as pd\n",
    "data = pd.read_csv('SAP-Data.csv')"
   ]
  },
  {
   "cell_type": "code",
   "execution_count": 3,
   "id": "431a4dd6",
   "metadata": {},
   "outputs": [],
   "source": [
    "data['text'] = data[['SAP_Part_Short','Desc(40)','Long Text']].apply(lambda x: str(x[1])+' '+str(x[2]),axis=1)"
   ]
  },
  {
   "cell_type": "code",
   "execution_count": 4,
   "id": "dc16f655",
   "metadata": {},
   "outputs": [],
   "source": [
    "from collections import defaultdict\n",
    "li = data[['SAP_Part_Short','text']].values.tolist()\n",
    "d = defaultdict(list)\n",
    "for item in li:\n",
    "    d[item[1].lower()].append(item[0])"
   ]
  },
  {
   "cell_type": "code",
   "execution_count": 5,
   "id": "b627f263",
   "metadata": {},
   "outputs": [
    {
     "data": {
      "text/plain": [
       "(400885, 406847)"
      ]
     },
     "execution_count": 5,
     "metadata": {},
     "output_type": "execute_result"
    }
   ],
   "source": [
    "to_index = [from collections import defaultdict\n",
    "li = data[['SAP_Part_Short','text']].values.tolist()\n",
    "d = defaultdict(list)\n",
    "for item in li:\n",
    "    d[item[1].lower()].append(item[0])item[0] for item in d.items()]\n",
    "len(to_index),len(li)"
   ]
  },
  {
   "cell_type": "code",
   "execution_count": 6,
   "id": "9fbb874d",
   "metadata": {},
   "outputs": [
    {
     "data": {
      "text/plain": [
       "['SAP_data.pkl']"
      ]
     },
     "execution_count": 6,
     "metadata": {},
     "output_type": "execute_result"
    }
   ],
   "source": [
    "import joblib\n",
    "joblib.dump(d,'SAP_data.pkl')"
   ]
  },
  {
   "cell_type": "code",
   "execution_count": 8,
   "id": "187d9098",
   "metadata": {},
   "outputs": [],
   "source": [
    "import numpy as np\n",
    "from jina import DocumentArray, Executor, requests\n",
    "\n",
    "\n",
    "class CharEmbed(Executor):  # a simple character embedding with mean-pooling\n",
    "    offset = 32  # letter `a`\n",
    "    dim = 127 - offset + 1  # last pos reserved for `UNK`\n",
    "    char_embd = np.eye(dim) * 1  # one-hot embedding for all chars\n",
    "\n",
    "    @requests\n",
    "    def foo(self, docs: DocumentArray, **kwargs):\n",
    "        count=0\n",
    "        for d in docs:\n",
    "            #print (d)\n",
    "            r_emb = [ord(c) - self.offset if self.offset <= ord(c) <= 127 else (self.dim - 1) for c in d.text]\n",
    "            #print (r_emb)\n",
    "            d.embedding = self.char_embd[r_emb, :].mean(axis=0)  # average pooling\n",
    "            count+=1\n",
    "            if count%10000==0: print (count)"
   ]
  },
  {
   "cell_type": "code",
   "execution_count": 9,
   "id": "e9edbd99",
   "metadata": {},
   "outputs": [],
   "source": [
    "\n",
    "class Indexer(Executor):\n",
    "    _docs = DocumentArray()  # for storing all documents in memory\n",
    "\n",
    "    @requests(on='/index')\n",
    "    def foo(self, docs: DocumentArray, **kwargs):\n",
    "        self._docs.extend(docs)  # extend stored `docs`\n",
    "\n",
    "    @requests(on='/search')\n",
    "    def bar(self, docs: DocumentArray, **kwargs):\n",
    "        docs.match(self._docs, metric='euclidean', limit=10)\n"
   ]
  },
  {
   "cell_type": "code",
   "execution_count": 14,
   "id": "85669a78",
   "metadata": {},
   "outputs": [
    {
     "data": {
      "text/html": [
       "<img src=\"https://mermaid.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\"/>"
      ],
      "text/plain": [
       "<IPython.core.display.Image object>"
      ]
     },
     "metadata": {},
     "output_type": "display_data"
    }
   ],
   "source": [
    "from jina import Flow\n",
    "\n",
    "f = (Flow(port_expose=12345, protocol='http', cors=True)\n",
    "        .add(uses=CharEmbed, replicas=5)\n",
    "        .add(uses=Indexer))  # build a Flow, with 2 shard CharEmbed, tho unnecessary\n",
    "f.plot('flow.svg')"
   ]
  },
  {
   "cell_type": "code",
   "execution_count": null,
   "id": "d95c95ec",
   "metadata": {},
   "outputs": [],
   "source": []
  },
  {
   "cell_type": "code",
   "execution_count": null,
   "id": "67a3d5eb",
   "metadata": {},
   "outputs": [],
   "source": [
    "from jina import Document\n",
    "\n",
    "with f:\n",
    "    #f.post('/index', (Document(text=t.strip()) for t in open('test.txt') if t.strip()))  # index all lines of _this_ file\n",
    "    f.post('/index', (Document(text=t.strip()) for t in to_index if t.strip()))  # index all lines of _this_ file\n",
    "    \n",
    "    f.block()  # block for listening request"
   ]
  },
  {
   "cell_type": "code",
   "execution_count": null,
   "id": "ae06ded9",
   "metadata": {},
   "outputs": [],
   "source": [
    "[item for item in to_index if len(item)<10]"
   ]
  },
  {
   "cell_type": "code",
   "execution_count": null,
   "id": "59d18feb",
   "metadata": {},
   "outputs": [],
   "source": []
  }
 ],
 "metadata": {
  "kernelspec": {
   "display_name": "Python 3 (ipykernel)",
   "language": "python",
   "name": "python3"
  },
  "language_info": {
   "codemirror_mode": {
    "name": "ipython",
    "version": 3
   },
   "file_extension": ".py",
   "mimetype": "text/x-python",
   "name": "python",
   "nbconvert_exporter": "python",
   "pygments_lexer": "ipython3",
   "version": "3.9.7"
  }
 },
 "nbformat": 4,
 "nbformat_minor": 5
}
